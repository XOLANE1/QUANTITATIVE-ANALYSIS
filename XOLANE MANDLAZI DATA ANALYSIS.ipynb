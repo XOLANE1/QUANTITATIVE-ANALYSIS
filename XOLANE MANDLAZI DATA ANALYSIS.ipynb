{
 "cells": [
  {
   "cell_type": "code",
   "execution_count": 1,
   "metadata": {},
   "outputs": [],
   "source": [
    "import pandas as pd\n",
    "import numpy as np"
   ]
  },
  {
   "cell_type": "code",
   "execution_count": 10,
   "metadata": {},
   "outputs": [],
   "source": [
    "data=pd.read_excel('QQQ.xlsx')"
   ]
  },
  {
   "cell_type": "code",
   "execution_count": 49,
   "metadata": {
    "scrolled": true
   },
   "outputs": [
    {
     "data": {
      "text/html": [
       "<div>\n",
       "<style scoped>\n",
       "    .dataframe tbody tr th:only-of-type {\n",
       "        vertical-align: middle;\n",
       "    }\n",
       "\n",
       "    .dataframe tbody tr th {\n",
       "        vertical-align: top;\n",
       "    }\n",
       "\n",
       "    .dataframe thead th {\n",
       "        text-align: right;\n",
       "    }\n",
       "</style>\n",
       "<table border=\"1\" class=\"dataframe\">\n",
       "  <thead>\n",
       "    <tr style=\"text-align: right;\">\n",
       "      <th></th>\n",
       "      <th>Name</th>\n",
       "      <th>Surname</th>\n",
       "      <th>Age</th>\n",
       "      <th>Education</th>\n",
       "      <th>Education Text</th>\n",
       "      <th>Gross Income</th>\n",
       "      <th>Finance Application Amount</th>\n",
       "      <th>Typical Repayment /Salary</th>\n",
       "      <th>Reached</th>\n",
       "      <th>Reached Text</th>\n",
       "      <th>Check check done</th>\n",
       "      <th>Check check done Text</th>\n",
       "      <th>Credit score</th>\n",
       "      <th>Credit Outcome</th>\n",
       "      <th>Credit Outcome Text</th>\n",
       "      <th>Finance app done</th>\n",
       "      <th>Finance app done Text</th>\n",
       "      <th>Finance Scoring</th>\n",
       "      <th>Finance outcome</th>\n",
       "      <th>Finance outcome Text</th>\n",
       "    </tr>\n",
       "  </thead>\n",
       "  <tbody>\n",
       "    <tr>\n",
       "      <th>0</th>\n",
       "      <td>Sbusiso</td>\n",
       "      <td>Mochumi</td>\n",
       "      <td>28.632945</td>\n",
       "      <td>5</td>\n",
       "      <td>Post-grad degree</td>\n",
       "      <td>23150</td>\n",
       "      <td>1.147316e+06</td>\n",
       "      <td>0.495601</td>\n",
       "      <td>1</td>\n",
       "      <td>Reached</td>\n",
       "      <td>1</td>\n",
       "      <td>Credit Check Done</td>\n",
       "      <td>615.0</td>\n",
       "      <td>1.0</td>\n",
       "      <td>PASS</td>\n",
       "      <td>1.0</td>\n",
       "      <td>Finance App Done</td>\n",
       "      <td>-883.085016</td>\n",
       "      <td>2.0</td>\n",
       "      <td>DECLINED</td>\n",
       "    </tr>\n",
       "    <tr>\n",
       "      <th>1</th>\n",
       "      <td>Chantel</td>\n",
       "      <td>Plaatjie</td>\n",
       "      <td>27.628640</td>\n",
       "      <td>1</td>\n",
       "      <td>No Matric</td>\n",
       "      <td>6100</td>\n",
       "      <td>2.500000e+05</td>\n",
       "      <td>0.409836</td>\n",
       "      <td>1</td>\n",
       "      <td>Reached</td>\n",
       "      <td>1</td>\n",
       "      <td>Credit Check Done</td>\n",
       "      <td>362.0</td>\n",
       "      <td>0.0</td>\n",
       "      <td>FAIL</td>\n",
       "      <td>NaN</td>\n",
       "      <td>NaN</td>\n",
       "      <td>NaN</td>\n",
       "      <td>NaN</td>\n",
       "      <td>NaN</td>\n",
       "    </tr>\n",
       "    <tr>\n",
       "      <th>2</th>\n",
       "      <td>Themba</td>\n",
       "      <td>Khoza</td>\n",
       "      <td>45.904415</td>\n",
       "      <td>2</td>\n",
       "      <td>Matric</td>\n",
       "      <td>12500</td>\n",
       "      <td>4.009377e+05</td>\n",
       "      <td>0.320750</td>\n",
       "      <td>2</td>\n",
       "      <td>Unreachable</td>\n",
       "      <td>3</td>\n",
       "      <td>Not applicable</td>\n",
       "      <td>NaN</td>\n",
       "      <td>NaN</td>\n",
       "      <td>NaN</td>\n",
       "      <td>NaN</td>\n",
       "      <td>NaN</td>\n",
       "      <td>NaN</td>\n",
       "      <td>NaN</td>\n",
       "      <td>NaN</td>\n",
       "    </tr>\n",
       "    <tr>\n",
       "      <th>3</th>\n",
       "      <td>Londiwe</td>\n",
       "      <td>Radzilani</td>\n",
       "      <td>21.680403</td>\n",
       "      <td>1</td>\n",
       "      <td>No Matric</td>\n",
       "      <td>5000</td>\n",
       "      <td>3.230532e+05</td>\n",
       "      <td>0.646106</td>\n",
       "      <td>2</td>\n",
       "      <td>Unreachable</td>\n",
       "      <td>3</td>\n",
       "      <td>Not applicable</td>\n",
       "      <td>NaN</td>\n",
       "      <td>NaN</td>\n",
       "      <td>NaN</td>\n",
       "      <td>NaN</td>\n",
       "      <td>NaN</td>\n",
       "      <td>NaN</td>\n",
       "      <td>NaN</td>\n",
       "      <td>NaN</td>\n",
       "    </tr>\n",
       "    <tr>\n",
       "      <th>4</th>\n",
       "      <td>Elaine</td>\n",
       "      <td>Chauke</td>\n",
       "      <td>36.583669</td>\n",
       "      <td>2</td>\n",
       "      <td>Matric</td>\n",
       "      <td>12050</td>\n",
       "      <td>2.769775e+05</td>\n",
       "      <td>0.229857</td>\n",
       "      <td>1</td>\n",
       "      <td>Reached</td>\n",
       "      <td>1</td>\n",
       "      <td>Credit Check Done</td>\n",
       "      <td>413.0</td>\n",
       "      <td>0.0</td>\n",
       "      <td>FAIL</td>\n",
       "      <td>NaN</td>\n",
       "      <td>NaN</td>\n",
       "      <td>NaN</td>\n",
       "      <td>NaN</td>\n",
       "      <td>NaN</td>\n",
       "    </tr>\n",
       "  </tbody>\n",
       "</table>\n",
       "</div>"
      ],
      "text/plain": [
       "      Name    Surname        Age  Education    Education Text  Gross Income  \\\n",
       "0  Sbusiso    Mochumi  28.632945          5  Post-grad degree         23150   \n",
       "1  Chantel   Plaatjie  27.628640          1         No Matric          6100   \n",
       "2   Themba      Khoza  45.904415          2            Matric         12500   \n",
       "3  Londiwe  Radzilani  21.680403          1         No Matric          5000   \n",
       "4   Elaine     Chauke  36.583669          2            Matric         12050   \n",
       "\n",
       "   Finance Application Amount  Typical Repayment /Salary  Reached  \\\n",
       "0                1.147316e+06                   0.495601        1   \n",
       "1                2.500000e+05                   0.409836        1   \n",
       "2                4.009377e+05                   0.320750        2   \n",
       "3                3.230532e+05                   0.646106        2   \n",
       "4                2.769775e+05                   0.229857        1   \n",
       "\n",
       "  Reached Text  Check check done Check check done Text  Credit score  \\\n",
       "0      Reached                 1     Credit Check Done         615.0   \n",
       "1      Reached                 1     Credit Check Done         362.0   \n",
       "2  Unreachable                 3        Not applicable           NaN   \n",
       "3  Unreachable                 3        Not applicable           NaN   \n",
       "4      Reached                 1     Credit Check Done         413.0   \n",
       "\n",
       "   Credit Outcome Credit Outcome Text  Finance app done Finance app done Text  \\\n",
       "0             1.0                PASS               1.0      Finance App Done   \n",
       "1             0.0                FAIL               NaN                   NaN   \n",
       "2             NaN                 NaN               NaN                   NaN   \n",
       "3             NaN                 NaN               NaN                   NaN   \n",
       "4             0.0                FAIL               NaN                   NaN   \n",
       "\n",
       "   Finance Scoring  Finance outcome Finance outcome Text  \n",
       "0      -883.085016              2.0             DECLINED  \n",
       "1              NaN              NaN                  NaN  \n",
       "2              NaN              NaN                  NaN  \n",
       "3              NaN              NaN                  NaN  \n",
       "4              NaN              NaN                  NaN  "
      ]
     },
     "execution_count": 49,
     "metadata": {},
     "output_type": "execute_result"
    }
   ],
   "source": [
    "data.head()"
   ]
  },
  {
   "cell_type": "markdown",
   "metadata": {},
   "source": [
    "###### QUESTION 1"
   ]
  },
  {
   "cell_type": "code",
   "execution_count": 50,
   "metadata": {
    "scrolled": true
   },
   "outputs": [
    {
     "data": {
      "text/plain": [
       "Check check done Text\n",
       "Credit Check Done    798\n",
       "Name: Check check done, dtype: int64"
      ]
     },
     "execution_count": 50,
     "metadata": {},
     "output_type": "execute_result"
    }
   ],
   "source": [
    "# number of customers that did Credit Check \n",
    "df=data[data['Check check done']==1 ].groupby('Check check done Text').count()\n",
    "df['Check check done']"
   ]
  },
  {
   "cell_type": "code",
   "execution_count": 51,
   "metadata": {},
   "outputs": [
    {
     "data": {
      "text/plain": [
       "Check check done Text\n",
       "Credit Check Skipped    733\n",
       "Name: Check check done, dtype: int64"
      ]
     },
     "execution_count": 51,
     "metadata": {},
     "output_type": "execute_result"
    }
   ],
   "source": [
    "# number of customers who skipped the Credit Check \n",
    "df=data[data['Check check done']==2 ].groupby('Check check done Text').count()\n",
    "df['Check check done']"
   ]
  },
  {
   "cell_type": "markdown",
   "metadata": {},
   "source": [
    "###### QUESTION 2"
   ]
  },
  {
   "cell_type": "code",
   "execution_count": 52,
   "metadata": {},
   "outputs": [],
   "source": [
    "d_f=data.groupby(['Finance outcome Text','Check check done Text']).count()"
   ]
  },
  {
   "cell_type": "code",
   "execution_count": 53,
   "metadata": {},
   "outputs": [
    {
     "data": {
      "text/plain": [
       "Finance outcome Text  Check check done Text\n",
       "APPROVED              Credit Check Done        171\n",
       "                      Credit Check Skipped     194\n",
       "DECLINED              Credit Check Done        267\n",
       "                      Credit Check Skipped     486\n",
       "Name: Finance outcome, dtype: int64"
      ]
     },
     "execution_count": 53,
     "metadata": {},
     "output_type": "execute_result"
    }
   ],
   "source": [
    "# number of applications approved and declined by the two agent groups\n",
    "d_f['Finance outcome'] "
   ]
  },
  {
   "cell_type": "markdown",
   "metadata": {},
   "source": [
    "###### QUESTION 4"
   ]
  },
  {
   "cell_type": "code",
   "execution_count": 61,
   "metadata": {},
   "outputs": [
    {
     "data": {
      "text/plain": [
       "468"
      ]
     },
     "execution_count": 61,
     "metadata": {},
     "output_type": "execute_result"
    }
   ],
   "source": [
    "df=data[data['Credit score']>450].where(data['Check check done Text']=='Credit Check Done').count()\n",
    "df['Credit Outcome']"
   ]
  },
  {
   "cell_type": "code",
   "execution_count": 62,
   "metadata": {},
   "outputs": [
    {
     "data": {
      "text/html": [
       "<div>\n",
       "<style scoped>\n",
       "    .dataframe tbody tr th:only-of-type {\n",
       "        vertical-align: middle;\n",
       "    }\n",
       "\n",
       "    .dataframe tbody tr th {\n",
       "        vertical-align: top;\n",
       "    }\n",
       "\n",
       "    .dataframe thead th {\n",
       "        text-align: right;\n",
       "    }\n",
       "</style>\n",
       "<table border=\"1\" class=\"dataframe\">\n",
       "  <thead>\n",
       "    <tr style=\"text-align: right;\">\n",
       "      <th></th>\n",
       "      <th>Check check done Text</th>\n",
       "      <th>Credit Outcome Text</th>\n",
       "    </tr>\n",
       "  </thead>\n",
       "  <tbody>\n",
       "    <tr>\n",
       "      <th>1538</th>\n",
       "      <td>Credit Check Skipped</td>\n",
       "      <td>FAIL</td>\n",
       "    </tr>\n",
       "    <tr>\n",
       "      <th>1754</th>\n",
       "      <td>Credit Check Done</td>\n",
       "      <td>FAIL</td>\n",
       "    </tr>\n",
       "    <tr>\n",
       "      <th>1785</th>\n",
       "      <td>Credit Check Skipped</td>\n",
       "      <td>FAIL</td>\n",
       "    </tr>\n",
       "  </tbody>\n",
       "</table>\n",
       "</div>"
      ],
      "text/plain": [
       "     Check check done Text Credit Outcome Text\n",
       "1538  Credit Check Skipped                FAIL\n",
       "1754     Credit Check Done                FAIL\n",
       "1785  Credit Check Skipped                FAIL"
      ]
     },
     "execution_count": 62,
     "metadata": {},
     "output_type": "execute_result"
    }
   ],
   "source": [
    "#checking the Credit Outcome at 450\n",
    "df=data[data['Credit score']==450]\n",
    "df[['Check check done Text','Credit Outcome Text']]"
   ]
  }
 ],
 "metadata": {
  "kernelspec": {
   "display_name": "Python 3",
   "language": "python",
   "name": "python3"
  },
  "language_info": {
   "codemirror_mode": {
    "name": "ipython",
    "version": 3
   },
   "file_extension": ".py",
   "mimetype": "text/x-python",
   "name": "python",
   "nbconvert_exporter": "python",
   "pygments_lexer": "ipython3",
   "version": "3.8.5"
  }
 },
 "nbformat": 4,
 "nbformat_minor": 4
}
